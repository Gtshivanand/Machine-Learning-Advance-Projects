{
 "cells": [
  {
   "cell_type": "markdown",
   "id": "a0b3b379-6e94-43b6-b9c3-c1135f13c3ef",
   "metadata": {},
   "source": [
    "<div style=\"background-color: #3FFFF; padding: 30px;\"> <div style=\"text-align: center;\">\n",
    "    <h1 style=\"font-family: Arial, sans-serif; font-size: 30px; font-weight: bold; text-align: center; margin: 20px 0;\">Customer Segmentation using RFM Analysis</h1>\n",
    "</div> "
   ]
  },
  {
   "cell_type": "markdown",
   "id": "e1f2d133-4294-478e-b11d-a4fdd026bd86",
   "metadata": {},
   "source": [
    "<img src=\"https://rfmcube.com/wp-content/uploads/2021/07/1_HiwX6vul8c4PBEueq3yBMw.png\" alt=\"Hero image\" style=\"width: 100%;\">"
   ]
  },
  {
   "cell_type": "markdown",
   "id": "bb778320-b54b-45ef-ba0a-5214fc8d1dc5",
   "metadata": {},
   "source": [
    "## What is RFM Analysis?\n",
    "RFM (Recency, Frequency, Monetary) analysis is a marketing technique used to quantitatively rank and group customers based on their transactional behavior. The goal is to identify the most valuable customers, understand their behaviors, and tailor marketing strategies accordingly."
   ]
  },
  {
   "cell_type": "markdown",
   "id": "f50fc23e-7e18-43c1-bd17-3d2af93c9325",
   "metadata": {},
   "source": [
    "### Components of RFM:\n",
    "- Recency (R): How recently a customer made a purchase.\n",
    "- Frequency (F): How often a customer makes a purchase.\n",
    "- Monetary (M): How much money a customer spends on purchases.\n",
    "\n",
    "By scoring customers on these three dimensions, businesses can create customer segments for targeted marketing.\n",
    "\n",
    "### Importance of RFM in Machine Learning:\n",
    "\n",
    "- Customer Segmentation: Helps in identifying customer segments for personalized marketing.\n",
    "- Customer Retention: Identifies at-risk customers and potential loyal customers.\n",
    "- Profitability Analysis: Helps in recognizing high-value customers.\n",
    "- Targeted Campaigns: Optimizes marketing efforts and budgets."
   ]
  },
  {
   "cell_type": "markdown",
   "id": "57e814c9-6137-4b51-b384-4954a10e7838",
   "metadata": {},
   "source": [
    "### Problem Statement\n",
    "\n",
    "Utilize RFM analysis to segment customers and drive data-informed marketing strategies for enhanced business outcomes."
   ]
  },
  {
   "cell_type": "markdown",
   "id": "d9c60d64-4593-4e87-b94e-3a3df3ba6375",
   "metadata": {},
   "source": [
    "#### Step 1: Importing Libraries"
   ]
  },
  {
   "cell_type": "code",
   "execution_count": 2,
   "id": "fb4dc17d-1e7d-46d3-9cf2-4b3021b93289",
   "metadata": {},
   "outputs": [],
   "source": [
    "import pandas as pd\n",
    "import numpy as np\n",
    "import matplotlib.pyplot as plt\n",
    "import seaborn as sns\n",
    "\n",
    "from warnings import filterwarnings\n",
    "filterwarnings('ignore')"
   ]
  },
  {
   "cell_type": "markdown",
   "id": "29812a60-bab3-4404-8ff9-25e77c86de6d",
   "metadata": {},
   "source": [
    "#### Step 2: Data Collection"
   ]
  },
  {
   "cell_type": "code",
   "execution_count": 3,
   "id": "4478b507-86e1-49cb-80f5-d740fae20cef",
   "metadata": {},
   "outputs": [
    {
     "data": {
      "text/html": [
       "<div>\n",
       "<style scoped>\n",
       "    .dataframe tbody tr th:only-of-type {\n",
       "        vertical-align: middle;\n",
       "    }\n",
       "\n",
       "    .dataframe tbody tr th {\n",
       "        vertical-align: top;\n",
       "    }\n",
       "\n",
       "    .dataframe thead th {\n",
       "        text-align: right;\n",
       "    }\n",
       "</style>\n",
       "<table border=\"1\" class=\"dataframe\">\n",
       "  <thead>\n",
       "    <tr style=\"text-align: right;\">\n",
       "      <th></th>\n",
       "      <th>InvoiceNo</th>\n",
       "      <th>StockCode</th>\n",
       "      <th>Description</th>\n",
       "      <th>Quantity</th>\n",
       "      <th>InvoiceDate</th>\n",
       "      <th>UnitPrice</th>\n",
       "      <th>CustomerID</th>\n",
       "      <th>Country</th>\n",
       "    </tr>\n",
       "  </thead>\n",
       "  <tbody>\n",
       "    <tr>\n",
       "      <th>0</th>\n",
       "      <td>536365</td>\n",
       "      <td>85123A</td>\n",
       "      <td>WHITE HANGING HEART T-LIGHT HOLDER</td>\n",
       "      <td>6</td>\n",
       "      <td>12/1/2010 8:26</td>\n",
       "      <td>2.55</td>\n",
       "      <td>17850.0</td>\n",
       "      <td>United Kingdom</td>\n",
       "    </tr>\n",
       "    <tr>\n",
       "      <th>1</th>\n",
       "      <td>536365</td>\n",
       "      <td>71053</td>\n",
       "      <td>WHITE METAL LANTERN</td>\n",
       "      <td>6</td>\n",
       "      <td>12/1/2010 8:26</td>\n",
       "      <td>3.39</td>\n",
       "      <td>17850.0</td>\n",
       "      <td>United Kingdom</td>\n",
       "    </tr>\n",
       "    <tr>\n",
       "      <th>2</th>\n",
       "      <td>536365</td>\n",
       "      <td>84406B</td>\n",
       "      <td>CREAM CUPID HEARTS COAT HANGER</td>\n",
       "      <td>8</td>\n",
       "      <td>12/1/2010 8:26</td>\n",
       "      <td>2.75</td>\n",
       "      <td>17850.0</td>\n",
       "      <td>United Kingdom</td>\n",
       "    </tr>\n",
       "    <tr>\n",
       "      <th>3</th>\n",
       "      <td>536365</td>\n",
       "      <td>84029G</td>\n",
       "      <td>KNITTED UNION FLAG HOT WATER BOTTLE</td>\n",
       "      <td>6</td>\n",
       "      <td>12/1/2010 8:26</td>\n",
       "      <td>3.39</td>\n",
       "      <td>17850.0</td>\n",
       "      <td>United Kingdom</td>\n",
       "    </tr>\n",
       "    <tr>\n",
       "      <th>4</th>\n",
       "      <td>536365</td>\n",
       "      <td>84029E</td>\n",
       "      <td>RED WOOLLY HOTTIE WHITE HEART.</td>\n",
       "      <td>6</td>\n",
       "      <td>12/1/2010 8:26</td>\n",
       "      <td>3.39</td>\n",
       "      <td>17850.0</td>\n",
       "      <td>United Kingdom</td>\n",
       "    </tr>\n",
       "  </tbody>\n",
       "</table>\n",
       "</div>"
      ],
      "text/plain": [
       "  InvoiceNo StockCode                          Description  Quantity  \\\n",
       "0    536365    85123A   WHITE HANGING HEART T-LIGHT HOLDER         6   \n",
       "1    536365     71053                  WHITE METAL LANTERN         6   \n",
       "2    536365    84406B       CREAM CUPID HEARTS COAT HANGER         8   \n",
       "3    536365    84029G  KNITTED UNION FLAG HOT WATER BOTTLE         6   \n",
       "4    536365    84029E       RED WOOLLY HOTTIE WHITE HEART.         6   \n",
       "\n",
       "      InvoiceDate  UnitPrice  CustomerID         Country  \n",
       "0  12/1/2010 8:26       2.55     17850.0  United Kingdom  \n",
       "1  12/1/2010 8:26       3.39     17850.0  United Kingdom  \n",
       "2  12/1/2010 8:26       2.75     17850.0  United Kingdom  \n",
       "3  12/1/2010 8:26       3.39     17850.0  United Kingdom  \n",
       "4  12/1/2010 8:26       3.39     17850.0  United Kingdom  "
      ]
     },
     "execution_count": 3,
     "metadata": {},
     "output_type": "execute_result"
    }
   ],
   "source": [
    "df = pd.read_csv('data.csv', encoding=\"ISO-8859-1\")\n",
    "df.head()"
   ]
  },
  {
   "cell_type": "code",
   "execution_count": 4,
   "id": "f0d30c78-c5f8-48cf-bba4-fad369f1bdf9",
   "metadata": {},
   "outputs": [],
   "source": [
    "df1 = df.copy(deep = True)"
   ]
  },
  {
   "cell_type": "markdown",
   "id": "f15f820f-2d2d-4f91-bd65-4b18beeaf4a7",
   "metadata": {},
   "source": [
    "#### Understanding about the dataset"
   ]
  },
  {
   "cell_type": "code",
   "execution_count": 5,
   "id": "270f8ae0-7988-46d9-a5fa-5c14df94dad9",
   "metadata": {},
   "outputs": [
    {
     "name": "stdout",
     "output_type": "stream",
     "text": [
      "<class 'pandas.core.frame.DataFrame'>\n",
      "RangeIndex: 541909 entries, 0 to 541908\n",
      "Data columns (total 8 columns):\n",
      " #   Column       Non-Null Count   Dtype  \n",
      "---  ------       --------------   -----  \n",
      " 0   InvoiceNo    541909 non-null  object \n",
      " 1   StockCode    541909 non-null  object \n",
      " 2   Description  540455 non-null  object \n",
      " 3   Quantity     541909 non-null  int64  \n",
      " 4   InvoiceDate  541909 non-null  object \n",
      " 5   UnitPrice    541909 non-null  float64\n",
      " 6   CustomerID   406829 non-null  float64\n",
      " 7   Country      541909 non-null  object \n",
      "dtypes: float64(2), int64(1), object(5)\n",
      "memory usage: 33.1+ MB\n"
     ]
    }
   ],
   "source": [
    "df.info()"
   ]
  },
  {
   "cell_type": "code",
   "execution_count": 6,
   "id": "e7b3869a-f0c0-4f0b-bb6f-bb1e451cf858",
   "metadata": {},
   "outputs": [
    {
     "data": {
      "text/plain": [
       "(541909, 8)"
      ]
     },
     "execution_count": 6,
     "metadata": {},
     "output_type": "execute_result"
    }
   ],
   "source": [
    "df.shape"
   ]
  },
  {
   "cell_type": "code",
   "execution_count": 7,
   "id": "7995c2bf-dc08-4175-8968-8cf94b60d034",
   "metadata": {},
   "outputs": [
    {
     "data": {
      "text/plain": [
       "Index(['InvoiceNo', 'StockCode', 'Description', 'Quantity', 'InvoiceDate',\n",
       "       'UnitPrice', 'CustomerID', 'Country'],\n",
       "      dtype='object')"
      ]
     },
     "execution_count": 7,
     "metadata": {},
     "output_type": "execute_result"
    }
   ],
   "source": [
    "df.columns"
   ]
  },
  {
   "cell_type": "code",
   "execution_count": 8,
   "id": "33c0e376-5d53-4d54-aac4-d4a3c0a23a90",
   "metadata": {},
   "outputs": [
    {
     "data": {
      "text/html": [
       "<div>\n",
       "<style scoped>\n",
       "    .dataframe tbody tr th:only-of-type {\n",
       "        vertical-align: middle;\n",
       "    }\n",
       "\n",
       "    .dataframe tbody tr th {\n",
       "        vertical-align: top;\n",
       "    }\n",
       "\n",
       "    .dataframe thead th {\n",
       "        text-align: right;\n",
       "    }\n",
       "</style>\n",
       "<table border=\"1\" class=\"dataframe\">\n",
       "  <thead>\n",
       "    <tr style=\"text-align: right;\">\n",
       "      <th></th>\n",
       "      <th>count</th>\n",
       "      <th>mean</th>\n",
       "      <th>std</th>\n",
       "      <th>min</th>\n",
       "      <th>25%</th>\n",
       "      <th>50%</th>\n",
       "      <th>75%</th>\n",
       "      <th>max</th>\n",
       "    </tr>\n",
       "  </thead>\n",
       "  <tbody>\n",
       "    <tr>\n",
       "      <th>Quantity</th>\n",
       "      <td>541909.0</td>\n",
       "      <td>9.552250</td>\n",
       "      <td>218.081158</td>\n",
       "      <td>-80995.00</td>\n",
       "      <td>1.00</td>\n",
       "      <td>3.00</td>\n",
       "      <td>10.00</td>\n",
       "      <td>80995.0</td>\n",
       "    </tr>\n",
       "    <tr>\n",
       "      <th>UnitPrice</th>\n",
       "      <td>541909.0</td>\n",
       "      <td>4.611114</td>\n",
       "      <td>96.759853</td>\n",
       "      <td>-11062.06</td>\n",
       "      <td>1.25</td>\n",
       "      <td>2.08</td>\n",
       "      <td>4.13</td>\n",
       "      <td>38970.0</td>\n",
       "    </tr>\n",
       "    <tr>\n",
       "      <th>CustomerID</th>\n",
       "      <td>406829.0</td>\n",
       "      <td>15287.690570</td>\n",
       "      <td>1713.600303</td>\n",
       "      <td>12346.00</td>\n",
       "      <td>13953.00</td>\n",
       "      <td>15152.00</td>\n",
       "      <td>16791.00</td>\n",
       "      <td>18287.0</td>\n",
       "    </tr>\n",
       "  </tbody>\n",
       "</table>\n",
       "</div>"
      ],
      "text/plain": [
       "               count          mean          std       min       25%       50%  \\\n",
       "Quantity    541909.0      9.552250   218.081158 -80995.00      1.00      3.00   \n",
       "UnitPrice   541909.0      4.611114    96.759853 -11062.06      1.25      2.08   \n",
       "CustomerID  406829.0  15287.690570  1713.600303  12346.00  13953.00  15152.00   \n",
       "\n",
       "                 75%      max  \n",
       "Quantity       10.00  80995.0  \n",
       "UnitPrice       4.13  38970.0  \n",
       "CustomerID  16791.00  18287.0  "
      ]
     },
     "execution_count": 8,
     "metadata": {},
     "output_type": "execute_result"
    }
   ],
   "source": [
    "df.describe().T"
   ]
  },
  {
   "cell_type": "code",
   "execution_count": 9,
   "id": "427e343a-95f1-4bf3-8347-8856f975f490",
   "metadata": {},
   "outputs": [
    {
     "data": {
      "text/plain": [
       "InvoiceNo           0\n",
       "StockCode           0\n",
       "Description      1454\n",
       "Quantity            0\n",
       "InvoiceDate         0\n",
       "UnitPrice           0\n",
       "CustomerID     135080\n",
       "Country             0\n",
       "dtype: int64"
      ]
     },
     "execution_count": 9,
     "metadata": {},
     "output_type": "execute_result"
    }
   ],
   "source": [
    "df.isnull().sum()"
   ]
  },
  {
   "cell_type": "markdown",
   "id": "13182893-3a0f-4d21-b58a-737451455fe0",
   "metadata": {},
   "source": [
    "#### We can see that the Quantity is negative and Unit Price is negative, So we are droping those records which are less than equal too 0"
   ]
  },
  {
   "cell_type": "code",
   "execution_count": 10,
   "id": "bafd923d-57a3-4ee7-bd20-715deb450807",
   "metadata": {},
   "outputs": [],
   "source": [
    "new_df = df[(df.Quantity >0) & (df.UnitPrice >0)]"
   ]
  },
  {
   "cell_type": "code",
   "execution_count": 11,
   "id": "2ee20dc3-ad78-4a9c-9087-68a2dee1849d",
   "metadata": {},
   "outputs": [
    {
     "data": {
      "text/plain": [
       "'There are totaly 11805 transactions which were having negative quantity or negative unit price'"
      ]
     },
     "execution_count": 11,
     "metadata": {},
     "output_type": "execute_result"
    }
   ],
   "source": [
    "f'There are totaly {541909 - 530104} transactions which were having negative quantity or negative unit price'"
   ]
  },
  {
   "cell_type": "code",
   "execution_count": 12,
   "id": "4d61a132-1f21-49a3-9a02-0eaa90f04c41",
   "metadata": {},
   "outputs": [
    {
     "data": {
      "text/plain": [
       "InvoiceNo           0\n",
       "StockCode           0\n",
       "Description         0\n",
       "Quantity            0\n",
       "InvoiceDate         0\n",
       "UnitPrice           0\n",
       "CustomerID     132220\n",
       "Country             0\n",
       "dtype: int64"
      ]
     },
     "execution_count": 12,
     "metadata": {},
     "output_type": "execute_result"
    }
   ],
   "source": [
    "new_df.isnull().sum()"
   ]
  },
  {
   "cell_type": "markdown",
   "id": "c16ac6a7-1a81-40b8-8c5b-015856c48805",
   "metadata": {},
   "source": [
    "#### We can see 132220 customer information is not present so we are going to drop those details."
   ]
  },
  {
   "cell_type": "code",
   "execution_count": 13,
   "id": "32ae1699-440e-4999-9d95-174a0d4b898d",
   "metadata": {},
   "outputs": [
    {
     "data": {
      "text/html": [
       "<div>\n",
       "<style scoped>\n",
       "    .dataframe tbody tr th:only-of-type {\n",
       "        vertical-align: middle;\n",
       "    }\n",
       "\n",
       "    .dataframe tbody tr th {\n",
       "        vertical-align: top;\n",
       "    }\n",
       "\n",
       "    .dataframe thead th {\n",
       "        text-align: right;\n",
       "    }\n",
       "</style>\n",
       "<table border=\"1\" class=\"dataframe\">\n",
       "  <thead>\n",
       "    <tr style=\"text-align: right;\">\n",
       "      <th></th>\n",
       "      <th>InvoiceNo</th>\n",
       "      <th>StockCode</th>\n",
       "      <th>Description</th>\n",
       "      <th>Quantity</th>\n",
       "      <th>InvoiceDate</th>\n",
       "      <th>UnitPrice</th>\n",
       "      <th>CustomerID</th>\n",
       "      <th>Country</th>\n",
       "    </tr>\n",
       "  </thead>\n",
       "  <tbody>\n",
       "    <tr>\n",
       "      <th>0</th>\n",
       "      <td>536365</td>\n",
       "      <td>85123A</td>\n",
       "      <td>WHITE HANGING HEART T-LIGHT HOLDER</td>\n",
       "      <td>6</td>\n",
       "      <td>12/1/2010 8:26</td>\n",
       "      <td>2.55</td>\n",
       "      <td>17850.0</td>\n",
       "      <td>United Kingdom</td>\n",
       "    </tr>\n",
       "    <tr>\n",
       "      <th>1</th>\n",
       "      <td>536365</td>\n",
       "      <td>71053</td>\n",
       "      <td>WHITE METAL LANTERN</td>\n",
       "      <td>6</td>\n",
       "      <td>12/1/2010 8:26</td>\n",
       "      <td>3.39</td>\n",
       "      <td>17850.0</td>\n",
       "      <td>United Kingdom</td>\n",
       "    </tr>\n",
       "    <tr>\n",
       "      <th>2</th>\n",
       "      <td>536365</td>\n",
       "      <td>84406B</td>\n",
       "      <td>CREAM CUPID HEARTS COAT HANGER</td>\n",
       "      <td>8</td>\n",
       "      <td>12/1/2010 8:26</td>\n",
       "      <td>2.75</td>\n",
       "      <td>17850.0</td>\n",
       "      <td>United Kingdom</td>\n",
       "    </tr>\n",
       "    <tr>\n",
       "      <th>3</th>\n",
       "      <td>536365</td>\n",
       "      <td>84029G</td>\n",
       "      <td>KNITTED UNION FLAG HOT WATER BOTTLE</td>\n",
       "      <td>6</td>\n",
       "      <td>12/1/2010 8:26</td>\n",
       "      <td>3.39</td>\n",
       "      <td>17850.0</td>\n",
       "      <td>United Kingdom</td>\n",
       "    </tr>\n",
       "    <tr>\n",
       "      <th>4</th>\n",
       "      <td>536365</td>\n",
       "      <td>84029E</td>\n",
       "      <td>RED WOOLLY HOTTIE WHITE HEART.</td>\n",
       "      <td>6</td>\n",
       "      <td>12/1/2010 8:26</td>\n",
       "      <td>3.39</td>\n",
       "      <td>17850.0</td>\n",
       "      <td>United Kingdom</td>\n",
       "    </tr>\n",
       "    <tr>\n",
       "      <th>...</th>\n",
       "      <td>...</td>\n",
       "      <td>...</td>\n",
       "      <td>...</td>\n",
       "      <td>...</td>\n",
       "      <td>...</td>\n",
       "      <td>...</td>\n",
       "      <td>...</td>\n",
       "      <td>...</td>\n",
       "    </tr>\n",
       "    <tr>\n",
       "      <th>541904</th>\n",
       "      <td>581587</td>\n",
       "      <td>22613</td>\n",
       "      <td>PACK OF 20 SPACEBOY NAPKINS</td>\n",
       "      <td>12</td>\n",
       "      <td>12/9/2011 12:50</td>\n",
       "      <td>0.85</td>\n",
       "      <td>12680.0</td>\n",
       "      <td>France</td>\n",
       "    </tr>\n",
       "    <tr>\n",
       "      <th>541905</th>\n",
       "      <td>581587</td>\n",
       "      <td>22899</td>\n",
       "      <td>CHILDREN'S APRON DOLLY GIRL</td>\n",
       "      <td>6</td>\n",
       "      <td>12/9/2011 12:50</td>\n",
       "      <td>2.10</td>\n",
       "      <td>12680.0</td>\n",
       "      <td>France</td>\n",
       "    </tr>\n",
       "    <tr>\n",
       "      <th>541906</th>\n",
       "      <td>581587</td>\n",
       "      <td>23254</td>\n",
       "      <td>CHILDRENS CUTLERY DOLLY GIRL</td>\n",
       "      <td>4</td>\n",
       "      <td>12/9/2011 12:50</td>\n",
       "      <td>4.15</td>\n",
       "      <td>12680.0</td>\n",
       "      <td>France</td>\n",
       "    </tr>\n",
       "    <tr>\n",
       "      <th>541907</th>\n",
       "      <td>581587</td>\n",
       "      <td>23255</td>\n",
       "      <td>CHILDRENS CUTLERY CIRCUS PARADE</td>\n",
       "      <td>4</td>\n",
       "      <td>12/9/2011 12:50</td>\n",
       "      <td>4.15</td>\n",
       "      <td>12680.0</td>\n",
       "      <td>France</td>\n",
       "    </tr>\n",
       "    <tr>\n",
       "      <th>541908</th>\n",
       "      <td>581587</td>\n",
       "      <td>22138</td>\n",
       "      <td>BAKING SET 9 PIECE RETROSPOT</td>\n",
       "      <td>3</td>\n",
       "      <td>12/9/2011 12:50</td>\n",
       "      <td>4.95</td>\n",
       "      <td>12680.0</td>\n",
       "      <td>France</td>\n",
       "    </tr>\n",
       "  </tbody>\n",
       "</table>\n",
       "<p>397884 rows × 8 columns</p>\n",
       "</div>"
      ],
      "text/plain": [
       "       InvoiceNo StockCode                          Description  Quantity  \\\n",
       "0         536365    85123A   WHITE HANGING HEART T-LIGHT HOLDER         6   \n",
       "1         536365     71053                  WHITE METAL LANTERN         6   \n",
       "2         536365    84406B       CREAM CUPID HEARTS COAT HANGER         8   \n",
       "3         536365    84029G  KNITTED UNION FLAG HOT WATER BOTTLE         6   \n",
       "4         536365    84029E       RED WOOLLY HOTTIE WHITE HEART.         6   \n",
       "...          ...       ...                                  ...       ...   \n",
       "541904    581587     22613          PACK OF 20 SPACEBOY NAPKINS        12   \n",
       "541905    581587     22899         CHILDREN'S APRON DOLLY GIRL          6   \n",
       "541906    581587     23254        CHILDRENS CUTLERY DOLLY GIRL          4   \n",
       "541907    581587     23255      CHILDRENS CUTLERY CIRCUS PARADE         4   \n",
       "541908    581587     22138        BAKING SET 9 PIECE RETROSPOT          3   \n",
       "\n",
       "            InvoiceDate  UnitPrice  CustomerID         Country  \n",
       "0        12/1/2010 8:26       2.55     17850.0  United Kingdom  \n",
       "1        12/1/2010 8:26       3.39     17850.0  United Kingdom  \n",
       "2        12/1/2010 8:26       2.75     17850.0  United Kingdom  \n",
       "3        12/1/2010 8:26       3.39     17850.0  United Kingdom  \n",
       "4        12/1/2010 8:26       3.39     17850.0  United Kingdom  \n",
       "...                 ...        ...         ...             ...  \n",
       "541904  12/9/2011 12:50       0.85     12680.0          France  \n",
       "541905  12/9/2011 12:50       2.10     12680.0          France  \n",
       "541906  12/9/2011 12:50       4.15     12680.0          France  \n",
       "541907  12/9/2011 12:50       4.15     12680.0          France  \n",
       "541908  12/9/2011 12:50       4.95     12680.0          France  \n",
       "\n",
       "[397884 rows x 8 columns]"
      ]
     },
     "execution_count": 13,
     "metadata": {},
     "output_type": "execute_result"
    }
   ],
   "source": [
    "new_df1 = new_df.dropna()\n",
    "new_df1"
   ]
  },
  {
   "cell_type": "markdown",
   "id": "2ab81aba-6731-4298-9008-4e07b3e3f49b",
   "metadata": {},
   "source": [
    "#### Now will investigate where are our customers from which Country"
   ]
  },
  {
   "cell_type": "code",
   "execution_count": 14,
   "id": "8756db42-71e2-4017-90eb-d7e7a1199b78",
   "metadata": {},
   "outputs": [
    {
     "data": {
      "text/plain": [
       "Country\n",
       "United Kingdom          354321\n",
       "Germany                   9040\n",
       "France                    8341\n",
       "EIRE                      7236\n",
       "Spain                     2484\n",
       "Netherlands               2359\n",
       "Belgium                   2031\n",
       "Switzerland               1841\n",
       "Portugal                  1462\n",
       "Australia                 1182\n",
       "Norway                    1071\n",
       "Italy                      758\n",
       "Channel Islands            748\n",
       "Finland                    685\n",
       "Cyprus                     614\n",
       "Sweden                     451\n",
       "Austria                    398\n",
       "Denmark                    380\n",
       "Poland                     330\n",
       "Japan                      321\n",
       "Israel                     248\n",
       "Unspecified                244\n",
       "Singapore                  222\n",
       "Iceland                    182\n",
       "USA                        179\n",
       "Canada                     151\n",
       "Greece                     145\n",
       "Malta                      112\n",
       "United Arab Emirates        68\n",
       "European Community          60\n",
       "RSA                         57\n",
       "Lebanon                     45\n",
       "Lithuania                   35\n",
       "Brazil                      32\n",
       "Czech Republic              25\n",
       "Bahrain                     17\n",
       "Saudi Arabia                 9\n",
       "Name: count, dtype: int64"
      ]
     },
     "execution_count": 14,
     "metadata": {},
     "output_type": "execute_result"
    }
   ],
   "source": [
    "new_df1.Country.value_counts()"
   ]
  },
  {
   "cell_type": "code",
   "execution_count": 15,
   "id": "f5773d16-7fd9-4527-998e-67fee9c74022",
   "metadata": {},
   "outputs": [
    {
     "data": {
      "text/plain": [
       "Country\n",
       "United Kingdom          0.890513\n",
       "Germany                 0.022720\n",
       "France                  0.020963\n",
       "EIRE                    0.018186\n",
       "Spain                   0.006243\n",
       "Netherlands             0.005929\n",
       "Belgium                 0.005105\n",
       "Switzerland             0.004627\n",
       "Portugal                0.003674\n",
       "Australia               0.002971\n",
       "Norway                  0.002692\n",
       "Italy                   0.001905\n",
       "Channel Islands         0.001880\n",
       "Finland                 0.001722\n",
       "Cyprus                  0.001543\n",
       "Sweden                  0.001133\n",
       "Austria                 0.001000\n",
       "Denmark                 0.000955\n",
       "Poland                  0.000829\n",
       "Japan                   0.000807\n",
       "Israel                  0.000623\n",
       "Unspecified             0.000613\n",
       "Singapore               0.000558\n",
       "Iceland                 0.000457\n",
       "USA                     0.000450\n",
       "Canada                  0.000380\n",
       "Greece                  0.000364\n",
       "Malta                   0.000281\n",
       "United Arab Emirates    0.000171\n",
       "European Community      0.000151\n",
       "RSA                     0.000143\n",
       "Lebanon                 0.000113\n",
       "Lithuania               0.000088\n",
       "Brazil                  0.000080\n",
       "Czech Republic          0.000063\n",
       "Bahrain                 0.000043\n",
       "Saudi Arabia            0.000023\n",
       "Name: proportion, dtype: float64"
      ]
     },
     "execution_count": 15,
     "metadata": {},
     "output_type": "execute_result"
    }
   ],
   "source": [
    "new_df1.Country.value_counts(normalize = True)"
   ]
  },
  {
   "cell_type": "markdown",
   "id": "6c64bd2d-bf53-4071-bb12-50274affd5d4",
   "metadata": {},
   "source": [
    "#### We can see that alomost 90% of our customers are from United Kingdom (UK) so will do our analysis only for UK"
   ]
  },
  {
   "cell_type": "code",
   "execution_count": 16,
   "id": "0a1e2181-5378-4814-a3bb-cea1d346e89b",
   "metadata": {},
   "outputs": [
    {
     "data": {
      "text/html": [
       "<div>\n",
       "<style scoped>\n",
       "    .dataframe tbody tr th:only-of-type {\n",
       "        vertical-align: middle;\n",
       "    }\n",
       "\n",
       "    .dataframe tbody tr th {\n",
       "        vertical-align: top;\n",
       "    }\n",
       "\n",
       "    .dataframe thead th {\n",
       "        text-align: right;\n",
       "    }\n",
       "</style>\n",
       "<table border=\"1\" class=\"dataframe\">\n",
       "  <thead>\n",
       "    <tr style=\"text-align: right;\">\n",
       "      <th></th>\n",
       "      <th>InvoiceNo</th>\n",
       "      <th>StockCode</th>\n",
       "      <th>Description</th>\n",
       "      <th>Quantity</th>\n",
       "      <th>InvoiceDate</th>\n",
       "      <th>UnitPrice</th>\n",
       "      <th>CustomerID</th>\n",
       "      <th>Country</th>\n",
       "    </tr>\n",
       "  </thead>\n",
       "  <tbody>\n",
       "    <tr>\n",
       "      <th>0</th>\n",
       "      <td>536365</td>\n",
       "      <td>85123A</td>\n",
       "      <td>WHITE HANGING HEART T-LIGHT HOLDER</td>\n",
       "      <td>6</td>\n",
       "      <td>12/1/2010 8:26</td>\n",
       "      <td>2.55</td>\n",
       "      <td>17850.0</td>\n",
       "      <td>United Kingdom</td>\n",
       "    </tr>\n",
       "    <tr>\n",
       "      <th>1</th>\n",
       "      <td>536365</td>\n",
       "      <td>71053</td>\n",
       "      <td>WHITE METAL LANTERN</td>\n",
       "      <td>6</td>\n",
       "      <td>12/1/2010 8:26</td>\n",
       "      <td>3.39</td>\n",
       "      <td>17850.0</td>\n",
       "      <td>United Kingdom</td>\n",
       "    </tr>\n",
       "    <tr>\n",
       "      <th>2</th>\n",
       "      <td>536365</td>\n",
       "      <td>84406B</td>\n",
       "      <td>CREAM CUPID HEARTS COAT HANGER</td>\n",
       "      <td>8</td>\n",
       "      <td>12/1/2010 8:26</td>\n",
       "      <td>2.75</td>\n",
       "      <td>17850.0</td>\n",
       "      <td>United Kingdom</td>\n",
       "    </tr>\n",
       "    <tr>\n",
       "      <th>3</th>\n",
       "      <td>536365</td>\n",
       "      <td>84029G</td>\n",
       "      <td>KNITTED UNION FLAG HOT WATER BOTTLE</td>\n",
       "      <td>6</td>\n",
       "      <td>12/1/2010 8:26</td>\n",
       "      <td>3.39</td>\n",
       "      <td>17850.0</td>\n",
       "      <td>United Kingdom</td>\n",
       "    </tr>\n",
       "    <tr>\n",
       "      <th>4</th>\n",
       "      <td>536365</td>\n",
       "      <td>84029E</td>\n",
       "      <td>RED WOOLLY HOTTIE WHITE HEART.</td>\n",
       "      <td>6</td>\n",
       "      <td>12/1/2010 8:26</td>\n",
       "      <td>3.39</td>\n",
       "      <td>17850.0</td>\n",
       "      <td>United Kingdom</td>\n",
       "    </tr>\n",
       "    <tr>\n",
       "      <th>...</th>\n",
       "      <td>...</td>\n",
       "      <td>...</td>\n",
       "      <td>...</td>\n",
       "      <td>...</td>\n",
       "      <td>...</td>\n",
       "      <td>...</td>\n",
       "      <td>...</td>\n",
       "      <td>...</td>\n",
       "    </tr>\n",
       "    <tr>\n",
       "      <th>541889</th>\n",
       "      <td>581585</td>\n",
       "      <td>22466</td>\n",
       "      <td>FAIRY TALE COTTAGE NIGHT LIGHT</td>\n",
       "      <td>12</td>\n",
       "      <td>12/9/2011 12:31</td>\n",
       "      <td>1.95</td>\n",
       "      <td>15804.0</td>\n",
       "      <td>United Kingdom</td>\n",
       "    </tr>\n",
       "    <tr>\n",
       "      <th>541890</th>\n",
       "      <td>581586</td>\n",
       "      <td>22061</td>\n",
       "      <td>LARGE CAKE STAND  HANGING STRAWBERY</td>\n",
       "      <td>8</td>\n",
       "      <td>12/9/2011 12:49</td>\n",
       "      <td>2.95</td>\n",
       "      <td>13113.0</td>\n",
       "      <td>United Kingdom</td>\n",
       "    </tr>\n",
       "    <tr>\n",
       "      <th>541891</th>\n",
       "      <td>581586</td>\n",
       "      <td>23275</td>\n",
       "      <td>SET OF 3 HANGING OWLS OLLIE BEAK</td>\n",
       "      <td>24</td>\n",
       "      <td>12/9/2011 12:49</td>\n",
       "      <td>1.25</td>\n",
       "      <td>13113.0</td>\n",
       "      <td>United Kingdom</td>\n",
       "    </tr>\n",
       "    <tr>\n",
       "      <th>541892</th>\n",
       "      <td>581586</td>\n",
       "      <td>21217</td>\n",
       "      <td>RED RETROSPOT ROUND CAKE TINS</td>\n",
       "      <td>24</td>\n",
       "      <td>12/9/2011 12:49</td>\n",
       "      <td>8.95</td>\n",
       "      <td>13113.0</td>\n",
       "      <td>United Kingdom</td>\n",
       "    </tr>\n",
       "    <tr>\n",
       "      <th>541893</th>\n",
       "      <td>581586</td>\n",
       "      <td>20685</td>\n",
       "      <td>DOORMAT RED RETROSPOT</td>\n",
       "      <td>10</td>\n",
       "      <td>12/9/2011 12:49</td>\n",
       "      <td>7.08</td>\n",
       "      <td>13113.0</td>\n",
       "      <td>United Kingdom</td>\n",
       "    </tr>\n",
       "  </tbody>\n",
       "</table>\n",
       "<p>354321 rows × 8 columns</p>\n",
       "</div>"
      ],
      "text/plain": [
       "       InvoiceNo StockCode                          Description  Quantity  \\\n",
       "0         536365    85123A   WHITE HANGING HEART T-LIGHT HOLDER         6   \n",
       "1         536365     71053                  WHITE METAL LANTERN         6   \n",
       "2         536365    84406B       CREAM CUPID HEARTS COAT HANGER         8   \n",
       "3         536365    84029G  KNITTED UNION FLAG HOT WATER BOTTLE         6   \n",
       "4         536365    84029E       RED WOOLLY HOTTIE WHITE HEART.         6   \n",
       "...          ...       ...                                  ...       ...   \n",
       "541889    581585     22466       FAIRY TALE COTTAGE NIGHT LIGHT        12   \n",
       "541890    581586     22061  LARGE CAKE STAND  HANGING STRAWBERY         8   \n",
       "541891    581586     23275     SET OF 3 HANGING OWLS OLLIE BEAK        24   \n",
       "541892    581586     21217        RED RETROSPOT ROUND CAKE TINS        24   \n",
       "541893    581586     20685                DOORMAT RED RETROSPOT        10   \n",
       "\n",
       "            InvoiceDate  UnitPrice  CustomerID         Country  \n",
       "0        12/1/2010 8:26       2.55     17850.0  United Kingdom  \n",
       "1        12/1/2010 8:26       3.39     17850.0  United Kingdom  \n",
       "2        12/1/2010 8:26       2.75     17850.0  United Kingdom  \n",
       "3        12/1/2010 8:26       3.39     17850.0  United Kingdom  \n",
       "4        12/1/2010 8:26       3.39     17850.0  United Kingdom  \n",
       "...                 ...        ...         ...             ...  \n",
       "541889  12/9/2011 12:31       1.95     15804.0  United Kingdom  \n",
       "541890  12/9/2011 12:49       2.95     13113.0  United Kingdom  \n",
       "541891  12/9/2011 12:49       1.25     13113.0  United Kingdom  \n",
       "541892  12/9/2011 12:49       8.95     13113.0  United Kingdom  \n",
       "541893  12/9/2011 12:49       7.08     13113.0  United Kingdom  \n",
       "\n",
       "[354321 rows x 8 columns]"
      ]
     },
     "execution_count": 16,
     "metadata": {},
     "output_type": "execute_result"
    }
   ],
   "source": [
    "df_uk = new_df1[new_df1.Country == 'United Kingdom']\n",
    "df_uk"
   ]
  },
  {
   "cell_type": "code",
   "execution_count": 17,
   "id": "8fe68c8a-ecf9-4e23-ac1a-572004795e6c",
   "metadata": {},
   "outputs": [],
   "source": [
    "df_uk.reset_index(drop=True,inplace = True)"
   ]
  },
  {
   "cell_type": "code",
   "execution_count": 18,
   "id": "d6077603-e3fc-429a-bacf-c248f592e7c8",
   "metadata": {},
   "outputs": [
    {
     "data": {
      "text/html": [
       "<div>\n",
       "<style scoped>\n",
       "    .dataframe tbody tr th:only-of-type {\n",
       "        vertical-align: middle;\n",
       "    }\n",
       "\n",
       "    .dataframe tbody tr th {\n",
       "        vertical-align: top;\n",
       "    }\n",
       "\n",
       "    .dataframe thead th {\n",
       "        text-align: right;\n",
       "    }\n",
       "</style>\n",
       "<table border=\"1\" class=\"dataframe\">\n",
       "  <thead>\n",
       "    <tr style=\"text-align: right;\">\n",
       "      <th></th>\n",
       "      <th>InvoiceNo</th>\n",
       "      <th>StockCode</th>\n",
       "      <th>Description</th>\n",
       "      <th>Quantity</th>\n",
       "      <th>InvoiceDate</th>\n",
       "      <th>UnitPrice</th>\n",
       "      <th>CustomerID</th>\n",
       "      <th>Country</th>\n",
       "    </tr>\n",
       "  </thead>\n",
       "  <tbody>\n",
       "    <tr>\n",
       "      <th>0</th>\n",
       "      <td>536365</td>\n",
       "      <td>85123A</td>\n",
       "      <td>WHITE HANGING HEART T-LIGHT HOLDER</td>\n",
       "      <td>6</td>\n",
       "      <td>12/1/2010 8:26</td>\n",
       "      <td>2.55</td>\n",
       "      <td>17850.0</td>\n",
       "      <td>United Kingdom</td>\n",
       "    </tr>\n",
       "    <tr>\n",
       "      <th>1</th>\n",
       "      <td>536365</td>\n",
       "      <td>71053</td>\n",
       "      <td>WHITE METAL LANTERN</td>\n",
       "      <td>6</td>\n",
       "      <td>12/1/2010 8:26</td>\n",
       "      <td>3.39</td>\n",
       "      <td>17850.0</td>\n",
       "      <td>United Kingdom</td>\n",
       "    </tr>\n",
       "    <tr>\n",
       "      <th>2</th>\n",
       "      <td>536365</td>\n",
       "      <td>84406B</td>\n",
       "      <td>CREAM CUPID HEARTS COAT HANGER</td>\n",
       "      <td>8</td>\n",
       "      <td>12/1/2010 8:26</td>\n",
       "      <td>2.75</td>\n",
       "      <td>17850.0</td>\n",
       "      <td>United Kingdom</td>\n",
       "    </tr>\n",
       "    <tr>\n",
       "      <th>3</th>\n",
       "      <td>536365</td>\n",
       "      <td>84029G</td>\n",
       "      <td>KNITTED UNION FLAG HOT WATER BOTTLE</td>\n",
       "      <td>6</td>\n",
       "      <td>12/1/2010 8:26</td>\n",
       "      <td>3.39</td>\n",
       "      <td>17850.0</td>\n",
       "      <td>United Kingdom</td>\n",
       "    </tr>\n",
       "    <tr>\n",
       "      <th>4</th>\n",
       "      <td>536365</td>\n",
       "      <td>84029E</td>\n",
       "      <td>RED WOOLLY HOTTIE WHITE HEART.</td>\n",
       "      <td>6</td>\n",
       "      <td>12/1/2010 8:26</td>\n",
       "      <td>3.39</td>\n",
       "      <td>17850.0</td>\n",
       "      <td>United Kingdom</td>\n",
       "    </tr>\n",
       "    <tr>\n",
       "      <th>...</th>\n",
       "      <td>...</td>\n",
       "      <td>...</td>\n",
       "      <td>...</td>\n",
       "      <td>...</td>\n",
       "      <td>...</td>\n",
       "      <td>...</td>\n",
       "      <td>...</td>\n",
       "      <td>...</td>\n",
       "    </tr>\n",
       "    <tr>\n",
       "      <th>354316</th>\n",
       "      <td>581585</td>\n",
       "      <td>22466</td>\n",
       "      <td>FAIRY TALE COTTAGE NIGHT LIGHT</td>\n",
       "      <td>12</td>\n",
       "      <td>12/9/2011 12:31</td>\n",
       "      <td>1.95</td>\n",
       "      <td>15804.0</td>\n",
       "      <td>United Kingdom</td>\n",
       "    </tr>\n",
       "    <tr>\n",
       "      <th>354317</th>\n",
       "      <td>581586</td>\n",
       "      <td>22061</td>\n",
       "      <td>LARGE CAKE STAND  HANGING STRAWBERY</td>\n",
       "      <td>8</td>\n",
       "      <td>12/9/2011 12:49</td>\n",
       "      <td>2.95</td>\n",
       "      <td>13113.0</td>\n",
       "      <td>United Kingdom</td>\n",
       "    </tr>\n",
       "    <tr>\n",
       "      <th>354318</th>\n",
       "      <td>581586</td>\n",
       "      <td>23275</td>\n",
       "      <td>SET OF 3 HANGING OWLS OLLIE BEAK</td>\n",
       "      <td>24</td>\n",
       "      <td>12/9/2011 12:49</td>\n",
       "      <td>1.25</td>\n",
       "      <td>13113.0</td>\n",
       "      <td>United Kingdom</td>\n",
       "    </tr>\n",
       "    <tr>\n",
       "      <th>354319</th>\n",
       "      <td>581586</td>\n",
       "      <td>21217</td>\n",
       "      <td>RED RETROSPOT ROUND CAKE TINS</td>\n",
       "      <td>24</td>\n",
       "      <td>12/9/2011 12:49</td>\n",
       "      <td>8.95</td>\n",
       "      <td>13113.0</td>\n",
       "      <td>United Kingdom</td>\n",
       "    </tr>\n",
       "    <tr>\n",
       "      <th>354320</th>\n",
       "      <td>581586</td>\n",
       "      <td>20685</td>\n",
       "      <td>DOORMAT RED RETROSPOT</td>\n",
       "      <td>10</td>\n",
       "      <td>12/9/2011 12:49</td>\n",
       "      <td>7.08</td>\n",
       "      <td>13113.0</td>\n",
       "      <td>United Kingdom</td>\n",
       "    </tr>\n",
       "  </tbody>\n",
       "</table>\n",
       "<p>354321 rows × 8 columns</p>\n",
       "</div>"
      ],
      "text/plain": [
       "       InvoiceNo StockCode                          Description  Quantity  \\\n",
       "0         536365    85123A   WHITE HANGING HEART T-LIGHT HOLDER         6   \n",
       "1         536365     71053                  WHITE METAL LANTERN         6   \n",
       "2         536365    84406B       CREAM CUPID HEARTS COAT HANGER         8   \n",
       "3         536365    84029G  KNITTED UNION FLAG HOT WATER BOTTLE         6   \n",
       "4         536365    84029E       RED WOOLLY HOTTIE WHITE HEART.         6   \n",
       "...          ...       ...                                  ...       ...   \n",
       "354316    581585     22466       FAIRY TALE COTTAGE NIGHT LIGHT        12   \n",
       "354317    581586     22061  LARGE CAKE STAND  HANGING STRAWBERY         8   \n",
       "354318    581586     23275     SET OF 3 HANGING OWLS OLLIE BEAK        24   \n",
       "354319    581586     21217        RED RETROSPOT ROUND CAKE TINS        24   \n",
       "354320    581586     20685                DOORMAT RED RETROSPOT        10   \n",
       "\n",
       "            InvoiceDate  UnitPrice  CustomerID         Country  \n",
       "0        12/1/2010 8:26       2.55     17850.0  United Kingdom  \n",
       "1        12/1/2010 8:26       3.39     17850.0  United Kingdom  \n",
       "2        12/1/2010 8:26       2.75     17850.0  United Kingdom  \n",
       "3        12/1/2010 8:26       3.39     17850.0  United Kingdom  \n",
       "4        12/1/2010 8:26       3.39     17850.0  United Kingdom  \n",
       "...                 ...        ...         ...             ...  \n",
       "354316  12/9/2011 12:31       1.95     15804.0  United Kingdom  \n",
       "354317  12/9/2011 12:49       2.95     13113.0  United Kingdom  \n",
       "354318  12/9/2011 12:49       1.25     13113.0  United Kingdom  \n",
       "354319  12/9/2011 12:49       8.95     13113.0  United Kingdom  \n",
       "354320  12/9/2011 12:49       7.08     13113.0  United Kingdom  \n",
       "\n",
       "[354321 rows x 8 columns]"
      ]
     },
     "execution_count": 18,
     "metadata": {},
     "output_type": "execute_result"
    }
   ],
   "source": [
    "df_uk"
   ]
  },
  {
   "cell_type": "markdown",
   "id": "c9d00f4e-0934-4845-abb5-401fcd661a4c",
   "metadata": {},
   "source": [
    "#### Now will Start Making our customer segmentation analysis based on 354321 customers transaction"
   ]
  },
  {
   "cell_type": "markdown",
   "id": "b35bf4c0-ac08-49e9-8922-6866b722eab5",
   "metadata": {},
   "source": [
    "#### Droping unwanted features."
   ]
  },
  {
   "cell_type": "code",
   "execution_count": 19,
   "id": "9635d03b-e396-4e8a-8e67-071fb3a79582",
   "metadata": {},
   "outputs": [],
   "source": [
    "final_df = df_uk.drop(columns = ['InvoiceNo','StockCode','Description','Country'])"
   ]
  },
  {
   "cell_type": "code",
   "execution_count": 20,
   "id": "6c2425d8-0dcb-47c8-85d1-72c00b177a42",
   "metadata": {},
   "outputs": [
    {
     "data": {
      "text/html": [
       "<div>\n",
       "<style scoped>\n",
       "    .dataframe tbody tr th:only-of-type {\n",
       "        vertical-align: middle;\n",
       "    }\n",
       "\n",
       "    .dataframe tbody tr th {\n",
       "        vertical-align: top;\n",
       "    }\n",
       "\n",
       "    .dataframe thead th {\n",
       "        text-align: right;\n",
       "    }\n",
       "</style>\n",
       "<table border=\"1\" class=\"dataframe\">\n",
       "  <thead>\n",
       "    <tr style=\"text-align: right;\">\n",
       "      <th></th>\n",
       "      <th>Quantity</th>\n",
       "      <th>InvoiceDate</th>\n",
       "      <th>UnitPrice</th>\n",
       "      <th>CustomerID</th>\n",
       "    </tr>\n",
       "  </thead>\n",
       "  <tbody>\n",
       "    <tr>\n",
       "      <th>0</th>\n",
       "      <td>6</td>\n",
       "      <td>12/1/2010 8:26</td>\n",
       "      <td>2.55</td>\n",
       "      <td>17850.0</td>\n",
       "    </tr>\n",
       "    <tr>\n",
       "      <th>1</th>\n",
       "      <td>6</td>\n",
       "      <td>12/1/2010 8:26</td>\n",
       "      <td>3.39</td>\n",
       "      <td>17850.0</td>\n",
       "    </tr>\n",
       "    <tr>\n",
       "      <th>2</th>\n",
       "      <td>8</td>\n",
       "      <td>12/1/2010 8:26</td>\n",
       "      <td>2.75</td>\n",
       "      <td>17850.0</td>\n",
       "    </tr>\n",
       "    <tr>\n",
       "      <th>3</th>\n",
       "      <td>6</td>\n",
       "      <td>12/1/2010 8:26</td>\n",
       "      <td>3.39</td>\n",
       "      <td>17850.0</td>\n",
       "    </tr>\n",
       "    <tr>\n",
       "      <th>4</th>\n",
       "      <td>6</td>\n",
       "      <td>12/1/2010 8:26</td>\n",
       "      <td>3.39</td>\n",
       "      <td>17850.0</td>\n",
       "    </tr>\n",
       "  </tbody>\n",
       "</table>\n",
       "</div>"
      ],
      "text/plain": [
       "   Quantity     InvoiceDate  UnitPrice  CustomerID\n",
       "0         6  12/1/2010 8:26       2.55     17850.0\n",
       "1         6  12/1/2010 8:26       3.39     17850.0\n",
       "2         8  12/1/2010 8:26       2.75     17850.0\n",
       "3         6  12/1/2010 8:26       3.39     17850.0\n",
       "4         6  12/1/2010 8:26       3.39     17850.0"
      ]
     },
     "execution_count": 20,
     "metadata": {},
     "output_type": "execute_result"
    }
   ],
   "source": [
    "final_df.head()"
   ]
  },
  {
   "cell_type": "code",
   "execution_count": 21,
   "id": "42a44b73-6c7e-4854-8181-32b8aa9ca244",
   "metadata": {},
   "outputs": [
    {
     "name": "stdout",
     "output_type": "stream",
     "text": [
      "<class 'pandas.core.frame.DataFrame'>\n",
      "RangeIndex: 354321 entries, 0 to 354320\n",
      "Data columns (total 4 columns):\n",
      " #   Column       Non-Null Count   Dtype  \n",
      "---  ------       --------------   -----  \n",
      " 0   Quantity     354321 non-null  int64  \n",
      " 1   InvoiceDate  354321 non-null  object \n",
      " 2   UnitPrice    354321 non-null  float64\n",
      " 3   CustomerID   354321 non-null  float64\n",
      "dtypes: float64(2), int64(1), object(1)\n",
      "memory usage: 10.8+ MB\n"
     ]
    }
   ],
   "source": [
    "final_df.info()"
   ]
  },
  {
   "cell_type": "markdown",
   "id": "0825e9f6-5bf8-421f-b6c1-23643ad4ae45",
   "metadata": {},
   "source": [
    "#### Step 2: Data Preparation\n",
    "Calculate Recency, Frequency, and Monetary values."
   ]
  },
  {
   "cell_type": "code",
   "execution_count": 22,
   "id": "5acb2394-8b77-4c53-a958-4244903b6580",
   "metadata": {},
   "outputs": [],
   "source": [
    "from datetime import date"
   ]
  },
  {
   "cell_type": "code",
   "execution_count": 23,
   "id": "da60d2b4-b16c-4bc7-bf10-36fcf3b38ca2",
   "metadata": {},
   "outputs": [
    {
     "data": {
      "text/plain": [
       "datetime.date(2025, 2, 19)"
      ]
     },
     "execution_count": 23,
     "metadata": {},
     "output_type": "execute_result"
    }
   ],
   "source": [
    "date.today()"
   ]
  },
  {
   "cell_type": "code",
   "execution_count": 24,
   "id": "69e01589-c6ab-4c9b-8cc0-c665d7c7ac32",
   "metadata": {},
   "outputs": [],
   "source": [
    "import datetime"
   ]
  },
  {
   "cell_type": "code",
   "execution_count": 25,
   "id": "8f324ee8-a718-4027-9cf0-7ed6b9151f0c",
   "metadata": {},
   "outputs": [
    {
     "data": {
      "text/plain": [
       "datetime.datetime(2025, 2, 19, 18, 23, 22, 536761)"
      ]
     },
     "execution_count": 25,
     "metadata": {},
     "output_type": "execute_result"
    }
   ],
   "source": [
    "# Reference date (today's date for the analysis)\n",
    "reference_date = datetime.datetime.now()\n",
    "reference_date"
   ]
  },
  {
   "cell_type": "code",
   "execution_count": 26,
   "id": "fcd2c18b-3e4e-4bf6-ae71-dfb1b5721300",
   "metadata": {},
   "outputs": [
    {
     "data": {
      "text/html": [
       "<div>\n",
       "<style scoped>\n",
       "    .dataframe tbody tr th:only-of-type {\n",
       "        vertical-align: middle;\n",
       "    }\n",
       "\n",
       "    .dataframe tbody tr th {\n",
       "        vertical-align: top;\n",
       "    }\n",
       "\n",
       "    .dataframe thead th {\n",
       "        text-align: right;\n",
       "    }\n",
       "</style>\n",
       "<table border=\"1\" class=\"dataframe\">\n",
       "  <thead>\n",
       "    <tr style=\"text-align: right;\">\n",
       "      <th></th>\n",
       "      <th>Quantity</th>\n",
       "      <th>InvoiceDate</th>\n",
       "      <th>UnitPrice</th>\n",
       "      <th>CustomerID</th>\n",
       "      <th>Transaction_Amount</th>\n",
       "    </tr>\n",
       "  </thead>\n",
       "  <tbody>\n",
       "    <tr>\n",
       "      <th>0</th>\n",
       "      <td>6</td>\n",
       "      <td>12/1/2010 8:26</td>\n",
       "      <td>2.55</td>\n",
       "      <td>17850.0</td>\n",
       "      <td>15.30</td>\n",
       "    </tr>\n",
       "    <tr>\n",
       "      <th>1</th>\n",
       "      <td>6</td>\n",
       "      <td>12/1/2010 8:26</td>\n",
       "      <td>3.39</td>\n",
       "      <td>17850.0</td>\n",
       "      <td>20.34</td>\n",
       "    </tr>\n",
       "  </tbody>\n",
       "</table>\n",
       "</div>"
      ],
      "text/plain": [
       "   Quantity     InvoiceDate  UnitPrice  CustomerID  Transaction_Amount\n",
       "0         6  12/1/2010 8:26       2.55     17850.0               15.30\n",
       "1         6  12/1/2010 8:26       3.39     17850.0               20.34"
      ]
     },
     "execution_count": 26,
     "metadata": {},
     "output_type": "execute_result"
    }
   ],
   "source": [
    "final_df['Transaction_Amount'] = final_df.Quantity * final_df.UnitPrice\n",
    "final_df.head(2)"
   ]
  },
  {
   "cell_type": "code",
   "execution_count": 27,
   "id": "a630478f-876f-4c52-a102-1b73ff0ef6d2",
   "metadata": {},
   "outputs": [],
   "source": [
    "final_df['InvoiceDate'] = pd.to_datetime(final_df.InvoiceDate)"
   ]
  },
  {
   "cell_type": "code",
   "execution_count": 28,
   "id": "b55a4cbb-9bb4-46d4-8c8a-790ba0223159",
   "metadata": {},
   "outputs": [
    {
     "data": {
      "text/html": [
       "<div>\n",
       "<style scoped>\n",
       "    .dataframe tbody tr th:only-of-type {\n",
       "        vertical-align: middle;\n",
       "    }\n",
       "\n",
       "    .dataframe tbody tr th {\n",
       "        vertical-align: top;\n",
       "    }\n",
       "\n",
       "    .dataframe thead th {\n",
       "        text-align: right;\n",
       "    }\n",
       "</style>\n",
       "<table border=\"1\" class=\"dataframe\">\n",
       "  <thead>\n",
       "    <tr style=\"text-align: right;\">\n",
       "      <th></th>\n",
       "      <th>InvoiceDate</th>\n",
       "      <th>Frequency</th>\n",
       "      <th>Monetary</th>\n",
       "    </tr>\n",
       "    <tr>\n",
       "      <th>CustomerID</th>\n",
       "      <th></th>\n",
       "      <th></th>\n",
       "      <th></th>\n",
       "    </tr>\n",
       "  </thead>\n",
       "  <tbody>\n",
       "    <tr>\n",
       "      <th>12346.0</th>\n",
       "      <td>5146</td>\n",
       "      <td>1</td>\n",
       "      <td>77183.60</td>\n",
       "    </tr>\n",
       "    <tr>\n",
       "      <th>12747.0</th>\n",
       "      <td>4823</td>\n",
       "      <td>103</td>\n",
       "      <td>4196.01</td>\n",
       "    </tr>\n",
       "    <tr>\n",
       "      <th>12748.0</th>\n",
       "      <td>4821</td>\n",
       "      <td>4595</td>\n",
       "      <td>33719.73</td>\n",
       "    </tr>\n",
       "    <tr>\n",
       "      <th>12749.0</th>\n",
       "      <td>4824</td>\n",
       "      <td>199</td>\n",
       "      <td>4090.88</td>\n",
       "    </tr>\n",
       "    <tr>\n",
       "      <th>12820.0</th>\n",
       "      <td>4824</td>\n",
       "      <td>59</td>\n",
       "      <td>942.34</td>\n",
       "    </tr>\n",
       "  </tbody>\n",
       "</table>\n",
       "</div>"
      ],
      "text/plain": [
       "            InvoiceDate  Frequency  Monetary\n",
       "CustomerID                                  \n",
       "12346.0            5146          1  77183.60\n",
       "12747.0            4823        103   4196.01\n",
       "12748.0            4821       4595  33719.73\n",
       "12749.0            4824        199   4090.88\n",
       "12820.0            4824         59    942.34"
      ]
     },
     "execution_count": 28,
     "metadata": {},
     "output_type": "execute_result"
    }
   ],
   "source": [
    "# Aggregate data by CustomerID\n",
    "rfm_data = final_df.groupby('CustomerID').agg({\n",
    "    'InvoiceDate': lambda x: (reference_date - x.max()).days,\n",
    "    'CustomerID': 'count',\n",
    "    'Transaction_Amount': 'sum'\n",
    "}).rename(columns={\n",
    "    'TransactionDate': 'Recency',\n",
    "    'CustomerID': 'Frequency',\n",
    "    'Transaction_Amount': 'Monetary'\n",
    "})\n",
    "\n",
    "rfm_data.head() "
   ]
  }
 ],
 "metadata": {
  "kernelspec": {
   "display_name": "Python 3 (ipykernel)",
   "language": "python",
   "name": "python3"
  },
  "language_info": {
   "codemirror_mode": {
    "name": "ipython",
    "version": 3
   },
   "file_extension": ".py",
   "mimetype": "text/x-python",
   "name": "python",
   "nbconvert_exporter": "python",
   "pygments_lexer": "ipython3",
   "version": "3.12.7"
  }
 },
 "nbformat": 4,
 "nbformat_minor": 5
}
